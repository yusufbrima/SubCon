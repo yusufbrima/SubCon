{
 "cells": [
  {
   "cell_type": "code",
   "execution_count": 1,
   "metadata": {},
   "outputs": [],
   "source": [
    "from pathlib import Path\n",
    "import json\n",
    "import numpy as np\n",
    "import h5py\n",
    "from PIL import Image\n",
    "import matplotlib.pyplot as plt\n",
    "import torch\n",
    "from torch.utils.data import DataLoader\n",
    "import torchvision.models as models\n",
    "from torchvision import datasets, transforms\n",
    "from dataloader import Custom3DShapesDataset,EfficientCustom3DShapesDataset\n",
    "from model import CNNEncoder\n",
    "from loss import BatchAllTtripletLoss\n",
    "import pandas as pd\n",
    "from main import train_loop\n",
    "from utils import plot_samples_from_loader,create_animation\n",
    "# set device \n",
    "device = torch.device('cuda' if torch.cuda.is_available() else 'cpu')\n",
    "\n",
    "with open('config.json') as json_file:\n",
    "    config = json.load(json_file)\n",
    "    data_folder = Path(config['dataset']['basepath'])\n",
    "\n",
    "    fig_path =  Path(config['reporting']['figpath'])\n",
    "    result_path = Path(config['reporting']['data'])\n",
    "    model_path = Path(config['reporting']['model'])\n",
    "    anim_path = Path(config['reporting']['animation'])"
   ]
  },
  {
   "cell_type": "code",
   "execution_count": 2,
   "metadata": {},
   "outputs": [],
   "source": [
    "# Define data transformations (you can customize these)\n",
    "transform = transforms.Compose([transforms.ToTensor(), transforms.Normalize((0.5,), (0.5,))])\n",
    "\n",
    "# Load the MNIST training dataset\n",
    "train_dataset = datasets.MNIST(root=data_folder/'data', train=True, transform=transform, download=True)\n",
    "val_dataset = datasets.MNIST(root=data_folder/'data', train=False, transform=transform, download=True)\n",
    "\n",
    "# Create a DataLoader for the training dataset\n",
    "batch_size = 64  # You can adjust this batch size\n",
    "train_loader = DataLoader(train_dataset, batch_size=batch_size, shuffle=True, num_workers=4)\n",
    "val_loader = DataLoader(val_dataset, batch_size=batch_size, shuffle=True, num_workers=4)"
   ]
  },
  {
   "cell_type": "code",
   "execution_count": 3,
   "metadata": {},
   "outputs": [
    {
     "data": {
      "image/png": "[encoded data removed]",
      "text/plain": [
       "<Figure size 1000x500 with 6 Axes>"
      ]
     },
     "metadata": {},
     "output_type": "display_data"
    }
   ],
   "source": [
    "# Usage:\n",
    "n_rows = 2  # Number of rows of subplots\n",
    "n_cols = 3  # Number of columns of subplots\n",
    "plot_samples_from_loader(val_loader, n_rows, n_cols)"
   ]
  },
  {
   "cell_type": "code",
   "execution_count": 4,
   "metadata": {},
   "outputs": [
    {
     "name": "stdout",
     "output_type": "stream",
     "text": [
      "Unexpected exception formatting exception. Falling back to standard exception\n"
     ]
    },
    {
     "name": "stderr",
     "output_type": "stream",
     "text": [
      "Traceback (most recent call last):\n",
      "  File \"/net/store/cv/users/ybrima/miniconda3/envs/subcon/lib/python3.11/site-packages/IPython/core/interactiveshell.py\", line 3526, in run_code\n",
      "    exec(code_obj, self.user_global_ns, self.user_ns)\n",
      "  File \"/tmp/ipykernel_18034/203821315.py\", line 17, in <module>\n",
      "    model,train_losses = train_loop(resnet50_encoder, train_loader, val_loader, criterion, optimizer, device, num_epochs)\n",
      "                         ^^^^^^^^^^^^^^^^^^^^^^^^^^^^^^^^^^^^^^^^^^^^^^^^^^^^^^^^^^^^^^^^^^^^^^^^^^^^^^^^^^^^^^^^^^^^^^^^\n",
      "  File \"/net/store/cv/users/ybrima/RTGCompCog/SubCon/main.py\", line 66, in train_loop\n",
      "    extract_and_visualize_embeddings(model, valloader, device, dim = None, counter = counter, class_labels = class_labels)\n",
      "  File \"/net/store/cv/users/ybrima/RTGCompCog/SubCon/utils.py\", line 46, in extract_and_visualize_embeddings\n",
      "  File \"/net/store/cv/users/ybrima/miniconda3/envs/subcon/lib/python3.11/site-packages/sklearn/manifold/_t_sne.py\", line 1119, in fit_transform\n",
      "    embedding = self._fit(X)\n",
      "                ^^^^^^^^^^^^\n",
      "  File \"/net/store/cv/users/ybrima/miniconda3/envs/subcon/lib/python3.11/site-packages/sklearn/manifold/_t_sne.py\", line 1012, in _fit\n",
      "    return self._tsne(\n",
      "           ^^^^^^^^^^^\n",
      "  File \"/net/store/cv/users/ybrima/miniconda3/envs/subcon/lib/python3.11/site-packages/sklearn/manifold/_t_sne.py\", line 1080, in _tsne\n",
      "    params, kl_divergence, it = _gradient_descent(obj_func, params, **opt_args)\n",
      "                                ^^^^^^^^^^^^^^^^^^^^^^^^^^^^^^^^^^^^^^^^^^^^^^^\n",
      "  File \"/net/store/cv/users/ybrima/miniconda3/envs/subcon/lib/python3.11/site-packages/sklearn/manifold/_t_sne.py\", line 399, in _gradient_descent\n",
      "    error, grad = objective(p, *args, **kwargs)\n",
      "                  ^^^^^^^^^^^^^^^^^^^^^^^^^^^^^\n",
      "  File \"/net/store/cv/users/ybrima/miniconda3/envs/subcon/lib/python3.11/site-packages/sklearn/manifold/_t_sne.py\", line 280, in _kl_divergence_bh\n",
      "    error = _barnes_hut_tsne.gradient(\n",
      "            ^^^^^^^^^^^^^^^^^^^^^^^^^^\n",
      "KeyboardInterrupt\n",
      "\n",
      "During handling of the above exception, another exception occurred:\n",
      "\n",
      "Traceback (most recent call last):\n",
      "  File \"/net/store/cv/users/ybrima/miniconda3/envs/subcon/lib/python3.11/site-packages/IPython/core/interactiveshell.py\", line 2120, in showtraceback\n",
      "    stb = self.InteractiveTB.structured_traceback(\n",
      "          ^^^^^^^^^^^^^^^^^^^^^^^^^^^^^^^^^^^^^^^^\n",
      "  File \"/net/store/cv/users/ybrima/miniconda3/envs/subcon/lib/python3.11/site-packages/IPython/core/ultratb.py\", line 1435, in structured_traceback\n",
      "    return FormattedTB.structured_traceback(\n",
      "           ^^^^^^^^^^^^^^^^^^^^^^^^^^^^^^^^^\n",
      "  File \"/net/store/cv/users/ybrima/miniconda3/envs/subcon/lib/python3.11/site-packages/IPython/core/ultratb.py\", line 1326, in structured_traceback\n",
      "    return VerboseTB.structured_traceback(\n",
      "           ^^^^^^^^^^^^^^^^^^^^^^^^^^^^^^^\n",
      "  File \"/net/store/cv/users/ybrima/miniconda3/envs/subcon/lib/python3.11/site-packages/IPython/core/ultratb.py\", line 1173, in structured_traceback\n",
      "    formatted_exception = self.format_exception_as_a_whole(etype, evalue, etb, number_of_lines_of_context,\n",
      "                          ^^^^^^^^^^^^^^^^^^^^^^^^^^^^^^^^^^^^^^^^^^^^^^^^^^^^^^^^^^^^^^^^^^^^^^^^^^^^^^^^\n",
      "  File \"/net/store/cv/users/ybrima/miniconda3/envs/subcon/lib/python3.11/site-packages/IPython/core/ultratb.py\", line 1088, in format_exception_as_a_whole\n",
      "    frames.append(self.format_record(record))\n",
      "                  ^^^^^^^^^^^^^^^^^^^^^^^^^^\n",
      "  File \"/net/store/cv/users/ybrima/miniconda3/envs/subcon/lib/python3.11/site-packages/IPython/core/ultratb.py\", line 970, in format_record\n",
      "    frame_info.lines, Colors, self.has_colors, lvals\n",
      "    ^^^^^^^^^^^^^^^^\n",
      "  File \"/net/store/cv/users/ybrima/miniconda3/envs/subcon/lib/python3.11/site-packages/IPython/core/ultratb.py\", line 792, in lines\n",
      "    return self._sd.lines\n",
      "           ^^^^^^^^^^^^^^\n",
      "  File \"/net/store/cv/users/ybrima/miniconda3/envs/subcon/lib/python3.11/site-packages/stack_data/utils.py\", line 144, in cached_property_wrapper\n",
      "    value = obj.__dict__[self.func.__name__] = self.func(obj)\n",
      "                                               ^^^^^^^^^^^^^^\n",
      "  File \"/net/store/cv/users/ybrima/miniconda3/envs/subcon/lib/python3.11/site-packages/stack_data/core.py\", line 734, in lines\n",
      "    pieces = self.included_pieces\n",
      "             ^^^^^^^^^^^^^^^^^^^^\n",
      "  File \"/net/store/cv/users/ybrima/miniconda3/envs/subcon/lib/python3.11/site-packages/stack_data/utils.py\", line 144, in cached_property_wrapper\n",
      "    value = obj.__dict__[self.func.__name__] = self.func(obj)\n",
      "                                               ^^^^^^^^^^^^^^\n",
      "  File \"/net/store/cv/users/ybrima/miniconda3/envs/subcon/lib/python3.11/site-packages/stack_data/core.py\", line 681, in included_pieces\n",
      "    pos = scope_pieces.index(self.executing_piece)\n",
      "                             ^^^^^^^^^^^^^^^^^^^^\n",
      "  File \"/net/store/cv/users/ybrima/miniconda3/envs/subcon/lib/python3.11/site-packages/stack_data/utils.py\", line 144, in cached_property_wrapper\n",
      "    value = obj.__dict__[self.func.__name__] = self.func(obj)\n",
      "                                               ^^^^^^^^^^^^^^\n",
      "  File \"/net/store/cv/users/ybrima/miniconda3/envs/subcon/lib/python3.11/site-packages/stack_data/core.py\", line 660, in executing_piece\n",
      "    return only(\n",
      "           ^^^^^\n",
      "  File \"/net/store/cv/users/ybrima/miniconda3/envs/subcon/lib/python3.11/site-packages/executing/executing.py\", line 190, in only\n",
      "    raise NotOneValueFound('Expected one value, found 0')\n",
      "executing.executing.NotOneValueFound: Expected one value, found 0\n"
     ]
    }
   ],
   "source": [
    "# Example usage with ResNet-50 as the backbone and latent_dim=128\n",
    "latent_dim = 32\n",
    "resnet50_encoder = CNNEncoder(models.resnet50,latent_dim  = latent_dim, input_shape= 1).to(device)\n",
    "\n",
    "\n",
    "# num_classes =  dataset._NUM_VALUES_PER_FACTOR['shape']\n",
    "# resnet50_classifier = CNNClassifier(models.resnet50, num_classes).to(device)\n",
    "\n",
    "\n",
    "\n",
    "criterion = BatchAllTtripletLoss() \n",
    "# criterion = torch.nn.CrossEntropyLoss()\n",
    "optimizer = torch.optim.Adam(resnet50_encoder.parameters(), lr=0.001)\n",
    "\n",
    "# Train the model\n",
    "num_epochs = 2  # You can adjust the number of epochs as needed\n",
    "model,train_losses = train_loop(resnet50_encoder, train_loader, val_loader, criterion, optimizer, device, num_epochs)"
   ]
  },
  {
   "cell_type": "code",
   "execution_count": 4,
   "metadata": {},
   "outputs": [],
   "source": [
    "# Create the animation of the training process\n",
    "import os\n",
    "animation_files =  Path(config['reporting']['animation'])\n",
    "\n",
    "image_files = [ anim_path/f\"tsne_embeddings_{i}.png\" for i in range(len(os.listdir(animation_files)))]\n",
    "\n",
    "output_filename = fig_path/\"mnist_tripplet_animation.gif\"\n",
    "\n",
    "create_animation(image_files, output_filename, duration=300)  # Adjust the duration as needed"
   ]
  },
  {
   "cell_type": "code",
   "execution_count": null,
   "metadata": {},
   "outputs": [],
   "source": []
  },
  {
   "cell_type": "code",
   "execution_count": null,
   "metadata": {},
   "outputs": [],
   "source": []
  },
  {
   "cell_type": "code",
   "execution_count": null,
   "metadata": {},
   "outputs": [],
   "source": []
  },
  {
   "cell_type": "code",
   "execution_count": null,
   "metadata": {},
   "outputs": [],
   "source": []
  }
 ],
 "metadata": {
  "kernelspec": {
   "display_name": "subcon",
   "language": "python",
   "name": "python3"
  },
  "language_info": {
   "codemirror_mode": {
    "name": "ipython",
    "version": 3
   },
   "file_extension": ".py",
   "mimetype": "text/x-python",
   "name": "python",
   "nbconvert_exporter": "python",
   "pygments_lexer": "ipython3",
   "version": "3.11.5"
  },
  "orig_nbformat": 4
 },
 "nbformat": 4,
 "nbformat_minor": 2
}
